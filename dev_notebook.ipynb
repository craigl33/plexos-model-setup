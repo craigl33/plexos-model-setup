{
 "cells": [
  {
   "cell_type": "code",
   "execution_count": 1,
   "metadata": {},
   "outputs": [],
   "source": [
    "# Automatically reload modules when they have changed\n",
    "%load_ext autoreload\n",
    "%autoreload 2\n",
    "\n",
    "import pandas as pd\n",
    "import os\n",
    "import numpy as np\n",
    "import matplotlib.pyplot as plt"
   ]
  },
  {
   "cell_type": "code",
   "execution_count": 3,
   "metadata": {},
   "outputs": [],
   "source": [
    "\n",
    "import model_setup as ms\n",
    "c = ms.ModelConfig('./config/UKR.toml')\n",
    "# c = ms.ModelConfig('./config/CHN_2024_EFC.toml')\n",
    "\n",
    "from model_setup.solution_index import SolutionIndexCreator\n",
    "from model_setup.capacity_setup import CapacitySetup\n",
    "# from model_setup.data_processor import DataProcessor"
   ]
  },
  {
   "cell_type": "code",
   "execution_count": 4,
   "metadata": {},
   "outputs": [
    {
     "name": "stdout",
     "output_type": "stream",
     "text": [
      "initialising class\n",
      "No 'SplitTechs' sheet found in the generator parameters file. If splitting is required, please add the sheet.\n",
      "class initialised\n"
     ]
    }
   ],
   "source": [
    "cs = ms.CapacitySetup(c)"
   ]
  },
  {
   "cell_type": "code",
   "execution_count": 5,
   "metadata": {},
   "outputs": [],
   "source": [
    "cs.setup_capacity()\n",
    "cs.setup_plant_parameters()"
   ]
  }
 ],
 "metadata": {
  "kernelspec": {
   "display_name": "plexos-model-setup",
   "language": "python",
   "name": "python3"
  },
  "language_info": {
   "codemirror_mode": {
    "name": "ipython",
    "version": 3
   },
   "file_extension": ".py",
   "mimetype": "text/x-python",
   "name": "python",
   "nbconvert_exporter": "python",
   "pygments_lexer": "ipython3",
   "version": "3.11.7"
  }
 },
 "nbformat": 4,
 "nbformat_minor": 2
}
