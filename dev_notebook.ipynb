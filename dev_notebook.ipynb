{
 "cells": [
  {
   "cell_type": "code",
   "execution_count": 77,
   "metadata": {},
   "outputs": [
    {
     "name": "stdout",
     "output_type": "stream",
     "text": [
      "The autoreload extension is already loaded. To reload it, use:\n",
      "  %reload_ext autoreload\n"
     ]
    }
   ],
   "source": [
    "# Automatically reload modules when they have changed\n",
    "%load_ext autoreload\n",
    "%autoreload 2\n",
    "\n",
    "import pandas as pd\n",
    "import os\n",
    "import numpy as np\n",
    "import matplotlib.pyplot as plt"
   ]
  },
  {
   "cell_type": "code",
   "execution_count": 78,
   "metadata": {},
   "outputs": [],
   "source": [
    "\n",
    "import model_setup as ms\n",
    "c = ms.ModelConfig('./config/UKR.toml')\n",
    "# c = ms.ModelConfig('./config/CHN_2024_EFC.toml')\n",
    "\n",
    "from model_setup.solution_index import SolutionIndexCreator\n",
    "from model_setup.capacity_setup import CapacitySetup\n",
    "# from model_setup.data_processor import DataProcessor"
   ]
  },
  {
   "cell_type": "code",
   "execution_count": 79,
   "metadata": {},
   "outputs": [
    {
     "name": "stdout",
     "output_type": "stream",
     "text": [
      "initialising class\n",
      "No 'SplitTechs' sheet found in the generator parameters file. If splitting is required, please add the sheet.\n",
      "class initialised\n"
     ]
    }
   ],
   "source": [
    "cs = ms.CapacitySetup(c)"
   ]
  },
  {
   "cell_type": "code",
   "execution_count": 80,
   "metadata": {},
   "outputs": [
    {
     "name": "stdout",
     "output_type": "stream",
     "text": [
      "Parameter ['AuxLosses'] is specified in the ParameterIndex file, but is not in the plant data. Skipping this parameter.\n",
      "Parameter ['MaxUnitsBuilt'] is specified in the ParameterIndex file, but is not in the plant data. Skipping this parameter.\n",
      "Parameter ['MinCapFacYear'] is specified in the ParameterIndex file, but is not in the plant data. Skipping this parameter.\n",
      "Parameter ['MinCHP_Ind'] is specified in the ParameterIndex file, but is not in the plant data. Skipping this parameter.\n",
      "Plant parameters exported successfully for P1 portfolio to Y:\\Modelling\\Ukraine\\2023_UKR_ST_Security\\03_Modelling\\01_InputData\\01_GeneratorParameters\\NEW.\n",
      "Parameter ['AuxLosses'] is specified in the ParameterIndex file, but is not in the plant data. Skipping this parameter.\n",
      "Parameter ['MaxUnitsBuilt'] is specified in the ParameterIndex file, but is not in the plant data. Skipping this parameter.\n",
      "Parameter ['MinCapFacYear'] is specified in the ParameterIndex file, but is not in the plant data. Skipping this parameter.\n",
      "Parameter ['MinCHP_Ind'] is specified in the ParameterIndex file, but is not in the plant data. Skipping this parameter.\n",
      "Plant parameters exported successfully for P2 portfolio to Y:\\Modelling\\Ukraine\\2023_UKR_ST_Security\\03_Modelling\\01_InputData\\01_GeneratorParameters\\NEW.\n",
      "Parameter ['AuxLosses'] is specified in the ParameterIndex file, but is not in the plant data. Skipping this parameter.\n",
      "Parameter ['MaxUnitsBuilt'] is specified in the ParameterIndex file, but is not in the plant data. Skipping this parameter.\n",
      "Parameter ['MinCapFacYear'] is specified in the ParameterIndex file, but is not in the plant data. Skipping this parameter.\n",
      "Parameter ['MinCHP_Ind'] is specified in the ParameterIndex file, but is not in the plant data. Skipping this parameter.\n",
      "Plant parameters exported successfully for P3 portfolio to Y:\\Modelling\\Ukraine\\2023_UKR_ST_Security\\03_Modelling\\01_InputData\\01_GeneratorParameters\\NEW.\n",
      "Parameter ['AuxLosses'] is specified in the ParameterIndex file, but is not in the plant data. Skipping this parameter.\n",
      "Parameter ['MaxUnitsBuilt'] is specified in the ParameterIndex file, but is not in the plant data. Skipping this parameter.\n",
      "Parameter ['MinCapFacYear'] is specified in the ParameterIndex file, but is not in the plant data. Skipping this parameter.\n",
      "Parameter ['MinCHP_Ind'] is specified in the ParameterIndex file, but is not in the plant data. Skipping this parameter.\n",
      "Plant parameters exported successfully for P4 portfolio to Y:\\Modelling\\Ukraine\\2023_UKR_ST_Security\\03_Modelling\\01_InputData\\01_GeneratorParameters\\NEW.\n",
      "Parameter ['AuxLosses'] is specified in the ParameterIndex file, but is not in the plant data. Skipping this parameter.\n",
      "Parameter ['MaxUnitsBuilt'] is specified in the ParameterIndex file, but is not in the plant data. Skipping this parameter.\n",
      "Parameter ['MinCapFacYear'] is specified in the ParameterIndex file, but is not in the plant data. Skipping this parameter.\n",
      "Parameter ['MinCHP_Ind'] is specified in the ParameterIndex file, but is not in the plant data. Skipping this parameter.\n",
      "Plant parameters exported successfully for P5 portfolio to Y:\\Modelling\\Ukraine\\2023_UKR_ST_Security\\03_Modelling\\01_InputData\\01_GeneratorParameters\\NEW.\n",
      "Parameter ['AuxLosses'] is specified in the ParameterIndex file, but is not in the plant data. Skipping this parameter.\n",
      "Parameter ['MaxUnitsBuilt'] is specified in the ParameterIndex file, but is not in the plant data. Skipping this parameter.\n",
      "Parameter ['MinCapFacYear'] is specified in the ParameterIndex file, but is not in the plant data. Skipping this parameter.\n",
      "Parameter ['MinCHP_Ind'] is specified in the ParameterIndex file, but is not in the plant data. Skipping this parameter.\n",
      "Plant parameters exported successfully for P6 portfolio to Y:\\Modelling\\Ukraine\\2023_UKR_ST_Security\\03_Modelling\\01_InputData\\01_GeneratorParameters\\NEW.\n",
      "Parameter ['AuxLosses'] is specified in the ParameterIndex file, but is not in the plant data. Skipping this parameter.\n",
      "Parameter ['MaxUnitsBuilt'] is specified in the ParameterIndex file, but is not in the plant data. Skipping this parameter.\n",
      "Parameter ['MinCapFacYear'] is specified in the ParameterIndex file, but is not in the plant data. Skipping this parameter.\n",
      "Parameter ['MinCHP_Ind'] is specified in the ParameterIndex file, but is not in the plant data. Skipping this parameter.\n",
      "Plant parameters exported successfully for P7 portfolio to Y:\\Modelling\\Ukraine\\2023_UKR_ST_Security\\03_Modelling\\01_InputData\\01_GeneratorParameters\\NEW.\n",
      "Parameter ['AuxLosses'] is specified in the ParameterIndex file, but is not in the plant data. Skipping this parameter.\n",
      "Parameter ['MaxUnitsBuilt'] is specified in the ParameterIndex file, but is not in the plant data. Skipping this parameter.\n",
      "Parameter ['MinCapFacYear'] is specified in the ParameterIndex file, but is not in the plant data. Skipping this parameter.\n",
      "Parameter ['MinCHP_Ind'] is specified in the ParameterIndex file, but is not in the plant data. Skipping this parameter.\n",
      "Plant parameters exported successfully for P8 portfolio to Y:\\Modelling\\Ukraine\\2023_UKR_ST_Security\\03_Modelling\\01_InputData\\01_GeneratorParameters\\NEW.\n",
      "Parameter ['AuxLosses'] is specified in the ParameterIndex file, but is not in the plant data. Skipping this parameter.\n",
      "Parameter ['MaxUnitsBuilt'] is specified in the ParameterIndex file, but is not in the plant data. Skipping this parameter.\n",
      "Parameter ['MinCapFacYear'] is specified in the ParameterIndex file, but is not in the plant data. Skipping this parameter.\n",
      "Parameter ['MinCHP_Ind'] is specified in the ParameterIndex file, but is not in the plant data. Skipping this parameter.\n",
      "Plant parameters exported successfully for P9 portfolio to Y:\\Modelling\\Ukraine\\2023_UKR_ST_Security\\03_Modelling\\01_InputData\\01_GeneratorParameters\\NEW.\n"
     ]
    }
   ],
   "source": [
    "cs.setup_capacity()\n",
    "cs.setup_plant_parameters()\n",
    "cs.export_plant_parameters()"
   ]
  },
  {
   "cell_type": "code",
   "execution_count": null,
   "metadata": {},
   "outputs": [],
   "source": []
  }
 ],
 "metadata": {
  "kernelspec": {
   "display_name": "plexos-model-setup",
   "language": "python",
   "name": "python3"
  },
  "language_info": {
   "codemirror_mode": {
    "name": "ipython",
    "version": 3
   },
   "file_extension": ".py",
   "mimetype": "text/x-python",
   "name": "python",
   "nbconvert_exporter": "python",
   "pygments_lexer": "ipython3",
   "version": "3.11.7"
  }
 },
 "nbformat": 4,
 "nbformat_minor": 2
}
