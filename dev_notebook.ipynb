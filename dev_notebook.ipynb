{
 "cells": [
  {
   "cell_type": "code",
   "execution_count": 1,
   "metadata": {},
   "outputs": [],
   "source": [
    "import pandas as pd\n",
    "import os"
   ]
  },
  {
   "cell_type": "code",
   "execution_count": 3,
   "metadata": {},
   "outputs": [],
   "source": [
    "\n",
    "import model_setup as ms\n",
    "config = ms.ModelConfig('project scripts/China/2024_China_EFC/CHN_2024_EFC.toml')\n",
    "\n",
    "from model_setup.solution_index import SolutionIndexCreator\n",
    "from model_setup.capacity_setup import CapacitySetup"
   ]
  },
  {
   "cell_type": "code",
   "execution_count": 37,
   "metadata": {},
   "outputs": [
    {
     "name": "stdout",
     "output_type": "stream",
     "text": [
      "no x\n"
     ]
    }
   ],
   "source": [
    "x = None\n",
    "if x:\n",
    "    print('x')\n",
    "else:\n",
    "    print('no x')"
   ]
  },
  {
   "cell_type": "code",
   "execution_count": 34,
   "metadata": {},
   "outputs": [
    {
     "data": {
      "text/plain": [
       "['APS_2030a', 'APS_2030b']"
      ]
     },
     "execution_count": 34,
     "metadata": {},
     "output_type": "execute_result"
    }
   ],
   "source": [
    "exclusions"
   ]
  },
  {
   "cell_type": "code",
   "execution_count": 9,
   "metadata": {},
   "outputs": [
    {
     "name": "stdout",
     "output_type": "stream",
     "text": [
      "initialising class\n",
      "class initialised\n",
      "Classification\n",
      "Battery          13.076000\n",
      "Bioenergy         3.004088\n",
      "Coal           1226.385900\n",
      "Hydro           414.418000\n",
      "Natural gas     103.145183\n",
      "Nuclear          55.758000\n",
      "Oil               5.769920\n",
      "Other RE          0.747720\n",
      "Solar PV        428.708000\n",
      "Waste             3.402950\n",
      "Wind            365.502000\n",
      "Name: Value, dtype: float64\n",
      "2619.9177606608\n",
      "Region splitting will be mapped to plants based on 'Category' column.\n",
      "Warning: There are entries with 'Value' > 0 having NaN in 'SplitFactor'.\n",
      "Technologies with capacity but no splitting factor are: Battery_utility_4h, Marine, Waste, Battery_distributed\n",
      "Classification\n",
      "Battery         258.738000\n",
      "Bioenergy        10.113771\n",
      "Coal           1360.524600\n",
      "Hydro           478.613000\n",
      "Natural gas     137.492860\n",
      "Nuclear         110.289710\n",
      "Oil               3.786890\n",
      "Other RE          6.680315\n",
      "Solar PV       2558.240000\n",
      "Waste             3.916070\n",
      "Wind            945.761000\n",
      "Name: Value, dtype: float64\n",
      "5874.1562159993\n",
      "Region splitting will be mapped to plants based on 'Category' column.\n",
      "Warning: There are entries with 'Value' > 0 having NaN in 'SplitFactor'.\n",
      "Technologies with capacity but no splitting factor are: Battery_utility_4h, Marine, Waste, Waste_CHP, Battery_distributed\n",
      "Classification\n",
      "Battery         245.138000\n",
      "Bioenergy         8.656385\n",
      "Coal           1361.816700\n",
      "Hydro           470.444000\n",
      "Natural gas     174.154833\n",
      "Nuclear         104.022230\n",
      "Oil               3.788130\n",
      "Other RE          5.097830\n",
      "Solar PV       2424.900000\n",
      "Waste             3.997066\n",
      "Wind            917.803000\n",
      "Name: Value, dtype: float64\n",
      "5719.8181740970995\n",
      "Region splitting will be mapped to plants based on 'Category' column.\n",
      "Warning: There are entries with 'Value' > 0 having NaN in 'SplitFactor'.\n",
      "Technologies with capacity but no splitting factor are: Battery_utility_4h, Marine, Waste, Waste_CHP, Battery_distributed\n"
     ]
    }
   ],
   "source": [
    "# config = ms.ModelConfig('project scripts/China/2024_China_EFC/CHN_2024_EFC.toml')\n",
    "cap = CapacitySetup(config)\n",
    "cap.setup_capacity()"
   ]
  },
  {
   "cell_type": "code",
   "execution_count": 10,
   "metadata": {},
   "outputs": [],
   "source": [
    "x = cap.capacities_df[cap.capacities_df['Category'] == 'Capacity: installed'].groupby('Product').agg({'Value':'sum'})\n",
    "x = x.where(x['Value'] > 0).dropna()"
   ]
  },
  {
   "cell_type": "code",
   "execution_count": 15,
   "metadata": {},
   "outputs": [
    {
     "ename": "AttributeError",
     "evalue": "'CapacitySetup' object has no attribute 'indices'",
     "output_type": "error",
     "traceback": [
      "\u001b[1;31m---------------------------------------------------------------------------\u001b[0m",
      "\u001b[1;31mAttributeError\u001b[0m                            Traceback (most recent call last)",
      "\u001b[1;32mc:\\Users\\hart_c\\showcase\\plexos-model-setup\\dev_notebook.ipynb Cell 6\u001b[0m line \u001b[0;36m2\n\u001b[0;32m      <a href='vscode-notebook-cell:/c%3A/Users/hart_c/showcase/plexos-model-setup/dev_notebook.ipynb#W5sZmlsZQ%3D%3D?line=0'>1</a>\u001b[0m x \u001b[39m=\u001b[39m cap\u001b[39m.\u001b[39mmodel_capacities[\u001b[39m'\u001b[39m\u001b[39mP3\u001b[39m\u001b[39m'\u001b[39m]\n\u001b[1;32m----> <a href='vscode-notebook-cell:/c%3A/Users/hart_c/showcase/plexos-model-setup/dev_notebook.ipynb#W5sZmlsZQ%3D%3D?line=1'>2</a>\u001b[0m y \u001b[39m=\u001b[39m cap\u001b[39m.\u001b[39;49mindices[\u001b[39m'\u001b[39m\u001b[39mP3\u001b[39m\u001b[39m'\u001b[39m]\n",
      "\u001b[1;31mAttributeError\u001b[0m: 'CapacitySetup' object has no attribute 'indices'"
     ]
    }
   ],
   "source": [
    "x = cap.model_capacities['P3']\n",
    "y = cap.indices['P3']"
   ]
  },
  {
   "cell_type": "code",
   "execution_count": null,
   "metadata": {},
   "outputs": [],
   "source": []
  }
 ],
 "metadata": {
  "kernelspec": {
   "display_name": "plexos-model-setup",
   "language": "python",
   "name": "python3"
  },
  "language_info": {
   "codemirror_mode": {
    "name": "ipython",
    "version": 3
   },
   "file_extension": ".py",
   "mimetype": "text/x-python",
   "name": "python",
   "nbconvert_exporter": "python",
   "pygments_lexer": "ipython3",
   "version": "3.11.7"
  }
 },
 "nbformat": 4,
 "nbformat_minor": 2
}
