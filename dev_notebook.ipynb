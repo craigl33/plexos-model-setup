{
 "cells": [
  {
   "cell_type": "code",
   "execution_count": 12,
   "metadata": {},
   "outputs": [
    {
     "name": "stdout",
     "output_type": "stream",
     "text": [
      "The autoreload extension is already loaded. To reload it, use:\n",
      "  %reload_ext autoreload\n"
     ]
    }
   ],
   "source": [
    "# Automatically reload modules when they have changed\n",
    "%load_ext autoreload\n",
    "%autoreload 2\n",
    "\n",
    "import pandas as pd\n",
    "import os\n",
    "import numpy as np\n",
    "import matplotlib.pyplot as plt"
   ]
  },
  {
   "cell_type": "code",
   "execution_count": 13,
   "metadata": {},
   "outputs": [],
   "source": [
    "import model_setup as ms\n",
    "c = ms.ModelConfig('./config/UKR.toml')\n",
    "# c = ms.ModelConfig('./config/CHN_2024_EFC.toml')\n",
    "\n",
    "from model_setup.solution_index import SolutionIndexCreator\n",
    "from model_setup.capacity_setup import CapacitySetup\n",
    "from model_setup.transmission_setup import TransmissionSetup\n",
    "from model_setup.load_setup import LoadSetup\n"
   ]
  },
  {
   "cell_type": "code",
   "execution_count": 14,
   "metadata": {},
   "outputs": [],
   "source": [
    "ts = TransmissionSetup(c)"
   ]
  },
  {
   "cell_type": "code",
   "execution_count": 15,
   "metadata": {},
   "outputs": [
    {
     "name": "stdout",
     "output_type": "stream",
     "text": [
      "initialising class\n",
      "class initialised\n"
     ]
    }
   ],
   "source": [
    "ls = LoadSetup(c)"
   ]
  },
  {
   "cell_type": "code",
   "execution_count": 9,
   "metadata": {},
   "outputs": [],
   "source": [
    "df = ls._read_manual_demand_data()"
   ]
  },
  {
   "cell_type": "code",
   "execution_count": 11,
   "metadata": {},
   "outputs": [
    {
     "ename": "KeyError",
     "evalue": "'load_data_path'",
     "output_type": "error",
     "traceback": [
      "\u001b[1;31m---------------------------------------------------------------------------\u001b[0m",
      "\u001b[1;31mKeyError\u001b[0m                                  Traceback (most recent call last)",
      "Cell \u001b[1;32mIn[11], line 15\u001b[0m\n\u001b[0;32m     11\u001b[0m demand_by_reg_df \u001b[38;5;241m=\u001b[39m pd\u001b[38;5;241m.\u001b[39mDataFrame(\u001b[38;5;28;01mNone\u001b[39;00m)\n\u001b[0;32m     13\u001b[0m \u001b[38;5;66;03m##\u001b[39;00m\n\u001b[1;32m---> 15\u001b[0m folder_path \u001b[38;5;241m=\u001b[39m \u001b[43mc\u001b[49m\u001b[38;5;241;43m.\u001b[39;49m\u001b[43mcfg\u001b[49m\u001b[43m[\u001b[49m\u001b[38;5;124;43m'\u001b[39;49m\u001b[38;5;124;43mload\u001b[39;49m\u001b[38;5;124;43m'\u001b[39;49m\u001b[43m]\u001b[49m\u001b[43m[\u001b[49m\u001b[38;5;124;43m'\u001b[39;49m\u001b[38;5;124;43mload_data_path\u001b[39;49m\u001b[38;5;124;43m'\u001b[39;49m\u001b[43m]\u001b[49m\n\u001b[0;32m     16\u001b[0m demand_file_paths \u001b[38;5;241m=\u001b[39m [f \u001b[38;5;28;01mfor\u001b[39;00m f \u001b[38;5;129;01min\u001b[39;00m os\u001b[38;5;241m.\u001b[39mlistdir(folder_path) \u001b[38;5;28;01mif\u001b[39;00m (\u001b[38;5;124m'\u001b[39m\u001b[38;5;124mdemand_snapshot\u001b[39m\u001b[38;5;124m'\u001b[39m \u001b[38;5;129;01min\u001b[39;00m f) \u001b[38;5;241m&\u001b[39m(\u001b[38;5;124m'\u001b[39m\u001b[38;5;124m$\u001b[39m\u001b[38;5;124m'\u001b[39m \u001b[38;5;129;01mnot\u001b[39;00m \u001b[38;5;129;01min\u001b[39;00m f)]\n\u001b[0;32m     18\u001b[0m \u001b[38;5;28;01mfor\u001b[39;00m path \u001b[38;5;129;01min\u001b[39;00m demand_file_paths:\n",
      "\u001b[1;31mKeyError\u001b[0m: 'load_data_path'"
     ]
    }
   ],
   "source": [
    "### Split hourly demand using split in snapshots\n",
    "import openpyxl as xl \n",
    "import os\n",
    "  \n",
    "\n",
    "\n",
    "\n",
    "modelled_regs = c.list_neighbouring_countries\n",
    "\n",
    "demand_sector_dict = {}\n",
    "demand_by_reg_df = pd.DataFrame(None)\n",
    "\n",
    "##\n",
    "\n",
    "folder_path = c.cfg['load']['load_data_path']\n",
    "demand_file_paths = [f for f in os.listdir(folder_path) if ('demand_snapshot' in f) &('$' not in f)]\n",
    "\n",
    "for path in demand_file_paths:\n",
    "    \n",
    "    full_path = os.path.join(folder_path, path)\n",
    "    # load the workbook \n",
    "    wb = xl.load_workbook(full_path)     \n",
    "    sheet_names = [ s for s in wb.sheetnames if s != 'UKR' ] \n",
    "    demand_by_sector_df = pd.DataFrame(None)\n",
    "    \n",
    "    \n",
    "    for reg in sheet_names:\n",
    "    \n",
    "        demand_df = pd.read_excel(full_path, sheet_name=reg, header=7, usecols='A:Z', nrows = 52)\n",
    "        keep_rows = [15, 18, 44, 45, 49, 50, 52] ## Losses = 15, removed. keep rows for sector totals and losses . other own-use is explicit in PLEXOS (double-check)\n",
    "        rename_cols = {'I. INDUSTRY:':'Industrial', 'II. AGRICULTURAL CONSUMERS':'Agricultural',\n",
    "            'III. TRANSPORT':'Transport', 'IV. CONSTRUCTION':'Construction', 'V. UTILITIES':'Utilities',\n",
    "            'VI. LIGHT, HOUSEHOLD AND OTHER SP.':'Residential'}\n",
    "\n",
    "        demand_df = demand_df[demand_df.line.isin(keep_rows)].drop(columns=['line']).set_index('consumer groups').T\n",
    "        demand_df = demand_df.rename(columns=rename_cols)\n",
    "            #####\n",
    "        demand_by_sector_df[reg] = demand_df.sum(axis=0)\n",
    "        demand_by_sector_df = demand_by_sector_df.rename_axis('Sector')\n",
    "#         demand_by_sector_df = demand_by_sector_df/demand_by_sector_df.sum(axis=0)*100\n",
    "#         demand_by_sector_df = demand_by_sector_df.round(1)\n",
    "        \n",
    "    \n",
    "        demand_by_reg_df[path.split('_')[-1].split('.')[0]] = demand_by_sector_df.sum(axis=0)\n",
    "        demand_sector_dict[path.split('_')[-1].split('.')[0]] = demand_by_sector_df\n",
    "\n",
    "    demand_sector_dict['2021_prime'] = demand_sector_dict['2021'].copy()\n",
    "    #######\n",
    "    demand_sector_dict['2021_prime'].loc['Industrial', 'EOR'] = demand_sector_dict['2021_prime'].loc['Industrial', 'EOR']*0.5\n",
    "    demand_sector_dict['2021_prime'].loc['Agricultural', 'EOR'] = demand_sector_dict['2021_prime'].loc['Agricultural', 'EOR']*0.5\n",
    "    demand_sector_dict['2021_prime'].loc['Transport', 'EOR'] = demand_sector_dict['2021_prime'].loc['Transport', 'EOR']*0.5\n",
    "    demand_sector_dict['2021_prime'].loc['Construction', 'EOR'] = demand_sector_dict['2021_prime'].loc['Construction', 'EOR']*0.5\n",
    "    demand_sector_dict['2021_prime'].loc['Utilities', 'EOR'] = demand_sector_dict['2021_prime'].loc['Utilities', 'EOR']*0.5\n",
    "    demand_sector_dict['2021_prime'].loc['Residential', 'EOR'] = demand_sector_dict['2021_prime'].loc['Residential', 'EOR']*0.5\n",
    "\n",
    "    #######\n",
    "    demand_by_reg_df['2021_prime'] = demand_sector_dict['2021_prime'].sum(axis=0)\n",
    "\n",
    "    ### Demand percentage relative to 2021 so we can use the UKRAINE national demand as the basis (this could be improved)\n",
    "    ### This is used for scaling to obtain full profile of UKRAINE demand by region without all profiles.\n",
    "    ### Can be compared vs. actuals (e.g. snapshot we actually have)\n",
    "    ### The limitation is that 2022 scaling factor is based on summer, therefore we should obtain a scaling factor for 2022 to correct this\n",
    "    demand_by_reg_pc_df = demand_by_reg_df/demand_by_reg_df.sum()['2021']\n",
    "    #######\n",
    "    demand_by_reg_df.loc['EOR', '2023'] = demand_by_reg_df['2023'].sum()*demand_by_reg_pc_df.loc['EOR', '2021_prime']\n",
    "    demand_by_reg_df.loc['EOR', '2022'] = demand_by_reg_df['2022'].sum()*demand_by_reg_pc_df.loc['EOR', '2021_prime']\n",
    "    demand_by_reg_df = demand_by_reg_df.drop(columns=['2021_prime'])\n",
    "    demand_by_reg_pc_df = demand_by_reg_df/demand_by_reg_df.sum()['2021']\n",
    "    demand_by_reg_pc_df = demand_by_reg_pc_df[demand_by_reg_pc_df.columns.sort_values()]"
   ]
  },
  {
   "cell_type": "code",
   "execution_count": null,
   "metadata": {},
   "outputs": [],
   "source": [
    "ts = TransmissionSetup(c)\n",
    "ts.calculate_tx_capacities()"
   ]
  },
  {
   "cell_type": "code",
   "execution_count": null,
   "metadata": {},
   "outputs": [],
   "source": [
    "from riselib.gis import get_country_gdf"
   ]
  },
  {
   "cell_type": "code",
   "execution_count": null,
   "metadata": {},
   "outputs": [],
   "source": [
    "x = get_country_gdf('UKR')"
   ]
  },
  {
   "cell_type": "code",
   "execution_count": null,
   "metadata": {},
   "outputs": [],
   "source": []
  },
  {
   "cell_type": "code",
   "execution_count": null,
   "metadata": {},
   "outputs": [],
   "source": [
    "x.loc[:,'GID_0'] = 'UKR'"
   ]
  },
  {
   "cell_type": "code",
   "execution_count": null,
   "metadata": {},
   "outputs": [],
   "source": [
    "border_names = ts.border_df.name.unique()\n",
    "lines_by_border = ts.gdf_tx.copy()\n",
    "lines_by_border\n",
    "\n",
    "lines_by_border.index = lines_by_border.index.astype(int)\n"
   ]
  },
  {
   "cell_type": "code",
   "execution_count": null,
   "metadata": {},
   "outputs": [],
   "source": [
    "sil_by_voltage = ts.df_tx_cap_by_v.set_index('Voltage')['SIL']\n",
    "sil_by_voltage.loc[lines_by_border.index.astype(int)]*lines_by_border.T\n"
   ]
  },
  {
   "cell_type": "code",
   "execution_count": null,
   "metadata": {},
   "outputs": [],
   "source": [
    "cs.setup_capacity()\n",
    "cs.setup_plant_parameters()\n",
    "cs.export_plant_parameters()"
   ]
  },
  {
   "cell_type": "code",
   "execution_count": null,
   "metadata": {},
   "outputs": [],
   "source": []
  }
 ],
 "metadata": {
  "kernelspec": {
   "display_name": "plexos-model-setup",
   "language": "python",
   "name": "python3"
  },
  "language_info": {
   "codemirror_mode": {
    "name": "ipython",
    "version": 3
   },
   "file_extension": ".py",
   "mimetype": "text/x-python",
   "name": "python",
   "nbconvert_exporter": "python",
   "pygments_lexer": "ipython3",
   "version": "3.12.2"
  }
 },
 "nbformat": 4,
 "nbformat_minor": 2
}
